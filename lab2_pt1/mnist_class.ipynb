{
 "cells": [
  {
   "cell_type": "code",
   "execution_count": 2,
   "metadata": {},
   "outputs": [
    {
     "name": "stdout",
     "output_type": "stream",
     "text": [
      "Collecting pyimkernel\n",
      "  Downloading pyimkernel-0.8.3-py3-none-any.whl (8.0 kB)\n",
      "Requirement already satisfied: numpy in c:\\users\\singh\\anaconda3\\lib\\site-packages (from pyimkernel) (1.20.3)\n",
      "Requirement already satisfied: opencv-python in c:\\users\\singh\\anaconda3\\lib\\site-packages (from pyimkernel) (4.7.0.72)\n",
      "Requirement already satisfied: matplotlib in c:\\users\\singh\\anaconda3\\lib\\site-packages (from pyimkernel) (3.4.3)\n",
      "Requirement already satisfied: kiwisolver>=1.0.1 in c:\\users\\singh\\anaconda3\\lib\\site-packages (from matplotlib->pyimkernel) (1.3.1)\n",
      "Requirement already satisfied: pyparsing>=2.2.1 in c:\\users\\singh\\anaconda3\\lib\\site-packages (from matplotlib->pyimkernel) (3.0.4)\n",
      "Requirement already satisfied: python-dateutil>=2.7 in c:\\users\\singh\\anaconda3\\lib\\site-packages (from matplotlib->pyimkernel) (2.8.2)\n",
      "Requirement already satisfied: cycler>=0.10 in c:\\users\\singh\\anaconda3\\lib\\site-packages (from matplotlib->pyimkernel) (0.10.0)\n",
      "Requirement already satisfied: pillow>=6.2.0 in c:\\users\\singh\\anaconda3\\lib\\site-packages (from matplotlib->pyimkernel) (8.4.0)\n",
      "Requirement already satisfied: six in c:\\users\\singh\\anaconda3\\lib\\site-packages (from cycler>=0.10->matplotlib->pyimkernel) (1.16.0)\n",
      "Installing collected packages: pyimkernel\n",
      "Successfully installed pyimkernel-0.8.3\n",
      "Note: you may need to restart the kernel to use updated packages.\n"
     ]
    }
   ],
   "source": [
    "%pip install pyimkernel"
   ]
  },
  {
   "cell_type": "code",
   "execution_count": 1,
   "metadata": {},
   "outputs": [],
   "source": [
    "import tensorflow as tf\n",
    "from tensorflow.keras.models import Sequential, save_model, load_model\n",
    "from tensorflow.keras.layers import Conv2D, MaxPool2D, Flatten, Dense, Dropout\n",
    "from tensorflow.keras.utils import to_categorical, plot_model\n",
    "from tensorflow.keras.losses import CategoricalCrossentropy\n",
    "from tensorflow.keras.optimizers import Adam\n",
    "from tensorflow.keras.metrics import CategoricalAccuracy\n",
    "from tensorflow.keras.callbacks import ModelCheckpoint, ReduceLROnPlateau\n",
    "import warnings\n",
    "import numpy as np\n",
    "warnings.filterwarnings('ignore')\n",
    "import matplotlib.pyplot as plt\n",
    "from pyimkernel import ApplyKernels"
   ]
  },
  {
   "cell_type": "code",
   "execution_count": 3,
   "metadata": {},
   "outputs": [],
   "source": [
    "mnist = tf.keras.datasets.mnist\n",
    "(X_train, y_train), (X_test, y_test) = mnist.load_data()"
   ]
  },
  {
   "cell_type": "code",
   "execution_count": 4,
   "metadata": {},
   "outputs": [
    {
     "data": {
      "text/plain": [
       "(60000, 28, 28)"
      ]
     },
     "execution_count": 4,
     "metadata": {},
     "output_type": "execute_result"
    }
   ],
   "source": [
    "X_train.shape"
   ]
  },
  {
   "cell_type": "code",
   "execution_count": 5,
   "metadata": {},
   "outputs": [
    {
     "data": {
      "text/plain": [
       "(10000, 28, 28)"
      ]
     },
     "execution_count": 5,
     "metadata": {},
     "output_type": "execute_result"
    }
   ],
   "source": [
    "X_test.shape"
   ]
  },
  {
   "cell_type": "code",
   "execution_count": 6,
   "metadata": {},
   "outputs": [
    {
     "data": {
      "text/plain": [
       "<matplotlib.image.AxesImage at 0x20c11da74f0>"
      ]
     },
     "execution_count": 6,
     "metadata": {},
     "output_type": "execute_result"
    },
    {
     "data": {
      "image/png": "[encoded data removed]",
      "text/plain": [
       "<Figure size 432x288 with 1 Axes>"
      ]
     },
     "metadata": {
      "needs_background": "light"
     },
     "output_type": "display_data"
    }
   ],
   "source": [
    "plt.imshow(X_train[0], cmap=plt.cm.gray)"
   ]
  },
  {
   "cell_type": "code",
   "execution_count": 7,
   "metadata": {},
   "outputs": [],
   "source": [
    "def pixel_normalization(image):\n",
    "    return (image / 255)"
   ]
  },
  {
   "cell_type": "code",
   "execution_count": 8,
   "metadata": {},
   "outputs": [],
   "source": [
    "X_train = pixel_normalization(X_train)\n",
    "X_test = pixel_normalization(X_test)"
   ]
  },
  {
   "cell_type": "code",
   "execution_count": 9,
   "metadata": {},
   "outputs": [],
   "source": [
    "y_train = to_categorical(y_train)\n",
    "y_test = to_categorical(y_test)"
   ]
  },
  {
   "cell_type": "code",
   "execution_count": 10,
   "metadata": {},
   "outputs": [],
   "source": [
    "X_train = np.expand_dims(X_train, axis=3)\n",
    "X_test = np.expand_dims(X_test, axis=3)"
   ]
  },
  {
   "cell_type": "code",
   "execution_count": 11,
   "metadata": {},
   "outputs": [
    {
     "data": {
      "text/plain": [
       "(60000, 28, 28, 1)"
      ]
     },
     "execution_count": 11,
     "metadata": {},
     "output_type": "execute_result"
    }
   ],
   "source": [
    "X_train.shape"
   ]
  },
  {
   "cell_type": "code",
   "execution_count": 12,
   "metadata": {},
   "outputs": [
    {
     "name": "stdout",
     "output_type": "stream",
     "text": [
      "You must install pydot (`pip install pydot`) and install graphviz (see instructions at https://graphviz.gitlab.io/download/) for plot_model to work.\n"
     ]
    }
   ],
   "source": [
    "cnn = Sequential()\n",
    "cnn.add(Conv2D(filters=32, kernel_size=(3, 3), padding='same', strides=(1,1), activation='relu', input_shape=(28, 28, 1)))\n",
    "cnn.add(Dropout(.2))\n",
    "cnn.add(MaxPool2D(pool_size=(2, 2), strides=(2, 2)))\n",
    "cnn.add(Conv2D(filters=64, kernel_size=(3, 3), padding='same', strides=(1,1), activation='relu'))\n",
    "cnn.add(Dropout(.2))\n",
    "cnn.add(MaxPool2D(pool_size=(2, 2), strides=(2, 2)))\n",
    "cnn.add(Flatten())\n",
    "cnn.add(Dense(units=128, activation='relu'))\n",
    "cnn.add(Dropout(.5))\n",
    "cnn.add(Dense(units=10, activation='softmax'))\n",
    "\n",
    "plot_model(cnn, show_shapes=True, show_layer_activations=True, show_layer_names=False)"
   ]
  },
  {
   "cell_type": "code",
   "execution_count": 13,
   "metadata": {},
   "outputs": [
    {
     "name": "stdout",
     "output_type": "stream",
     "text": [
      "Epoch 1/10\n",
      "300/300 [==============================] - 54s 165ms/step - loss: 0.3239 - categorical_accuracy: 0.9004 - val_loss: 0.0846 - val_categorical_accuracy: 0.9785 - lr: 0.0010\n",
      "Epoch 2/10\n",
      "300/300 [==============================] - 52s 173ms/step - loss: 0.1038 - categorical_accuracy: 0.9697 - val_loss: 0.0541 - val_categorical_accuracy: 0.9852 - lr: 0.0010\n",
      "Epoch 3/10\n",
      "300/300 [==============================] - 48s 161ms/step - loss: 0.0792 - categorical_accuracy: 0.9764 - val_loss: 0.0400 - val_categorical_accuracy: 0.9893 - lr: 0.0010\n",
      "Epoch 4/10\n",
      "300/300 [==============================] - 49s 164ms/step - loss: 0.0632 - categorical_accuracy: 0.9810 - val_loss: 0.0351 - val_categorical_accuracy: 0.9891 - lr: 0.0010\n",
      "Epoch 5/10\n",
      "300/300 [==============================] - 49s 162ms/step - loss: 0.0547 - categorical_accuracy: 0.9834 - val_loss: 0.0355 - val_categorical_accuracy: 0.9894 - lr: 0.0010\n",
      "Epoch 6/10\n",
      "300/300 [==============================] - 48s 162ms/step - loss: 0.0482 - categorical_accuracy: 0.9860 - val_loss: 0.0331 - val_categorical_accuracy: 0.9900 - lr: 0.0010\n",
      "Epoch 7/10\n",
      "300/300 [==============================] - 53s 175ms/step - loss: 0.0436 - categorical_accuracy: 0.9864 - val_loss: 0.0274 - val_categorical_accuracy: 0.9910 - lr: 0.0010\n",
      "Epoch 8/10\n",
      "300/300 [==============================] - 58s 195ms/step - loss: 0.0409 - categorical_accuracy: 0.9870 - val_loss: 0.0260 - val_categorical_accuracy: 0.9922 - lr: 0.0010\n",
      "Epoch 9/10\n",
      "300/300 [==============================] - 57s 189ms/step - loss: 0.0371 - categorical_accuracy: 0.9883 - val_loss: 0.0252 - val_categorical_accuracy: 0.9909 - lr: 0.0010\n",
      "Epoch 10/10\n",
      "300/300 [==============================] - 55s 184ms/step - loss: 0.0334 - categorical_accuracy: 0.9897 - val_loss: 0.0234 - val_categorical_accuracy: 0.9925 - lr: 0.0010\n"
     ]
    }
   ],
   "source": [
    "cnn.compile(optimizer=Adam(learning_rate=0.001),\n",
    "            loss=CategoricalCrossentropy(from_logits=True),\n",
    "            metrics=CategoricalAccuracy())\n",
    "\n",
    "reduce_lr = ReduceLROnPlateau(monitor='val_loss', factor=0.2, patience=3, min_lr=0.00001)\n",
    "checkpoint = ModelCheckpoint(filepath='/kaggle/working/model_weights.h5', monitor='val_categorical_accuracy', save_best_only=True)\n",
    "history = cnn.fit(X_train, y_train, epochs=10, batch_size=200, validation_data=(X_test, y_test), callbacks=[checkpoint, reduce_lr])"
   ]
  },
  {
   "cell_type": "code",
   "execution_count": 32,
   "metadata": {},
   "outputs": [
    {
     "name": "stdout",
     "output_type": "stream",
     "text": [
      "1/1 [==============================] - 0s 61ms/step\n"
     ]
    },
    {
     "data": {
      "text/plain": [
       "array([[5.24125188e-10, 1.93504675e-07, 1.93159522e-07, 1.45954641e-06,\n",
       "        4.99057933e-08, 4.84608076e-10, 2.19426799e-13, 9.99996901e-01,\n",
       "        1.48335815e-08, 1.19725712e-06]], dtype=float32)"
      ]
     },
     "execution_count": 32,
     "metadata": {},
     "output_type": "execute_result"
    }
   ],
   "source": [
    "y_pred = cnn.predict(np.expand_dims(X_test[0], axis=0))\n",
    "y_pred"
   ]
  },
  {
   "cell_type": "code",
   "execution_count": 33,
   "metadata": {},
   "outputs": [
    {
     "data": {
      "text/plain": [
       "array([7], dtype=int64)"
      ]
     },
     "execution_count": 33,
     "metadata": {},
     "output_type": "execute_result"
    }
   ],
   "source": [
    "predictions = np.argmax(y_pred, axis=1)\n",
    "predictions"
   ]
  },
  {
   "cell_type": "code",
   "execution_count": 29,
   "metadata": {},
   "outputs": [
    {
     "name": "stdout",
     "output_type": "stream",
     "text": [
      "313/313 [==============================] - 2s 5ms/step\n"
     ]
    },
    {
     "data": {
      "image/png": "[encoded data removed]",
      "text/plain": [
       "<Figure size 864x432 with 15 Axes>"
      ]
     },
     "metadata": {
      "needs_background": "light"
     },
     "output_type": "display_data"
    }
   ],
   "source": [
    "predictions = cnn.predict(X_test)\n",
    "\n",
    "# Convert predictions to class labels\n",
    "predicted_labels = np.argmax(predictions, axis=1)\n",
    "\n",
    "# Select some random test samples (e.g., the first 15)\n",
    "num_samples_to_display = 15\n",
    "sample_indices = np.random.choice(len(X_test), num_samples_to_display, replace=False)\n",
    "\n",
    "# Create a figure to display the comparison\n",
    "plt.figure(figsize=(12, 6))\n",
    "\n",
    "for i, sample_index in enumerate(sample_indices):\n",
    "    plt.subplot(3, 5, i + 1)\n",
    "    plt.imshow(X_test[sample_index].reshape(28, 28), cmap='gray')\n",
    "    plt.title(f\"Actual: {np.argmax(y_test[sample_index])}\\nPredicted: {predicted_labels[sample_index]}\")\n",
    "    plt.axis('off')\n",
    "\n",
    "plt.tight_layout()\n",
    "plt.show()"
   ]
  },
  {
   "cell_type": "code",
   "execution_count": 31,
   "metadata": {},
   "outputs": [
    {
     "name": "stdout",
     "output_type": "stream",
     "text": [
      "Model Saved!!!\n"
     ]
    }
   ],
   "source": [
    "cnn.save(\"model.h5\")\n",
    "print(\"Model Saved!!!\")"
   ]
  },
  {
   "cell_type": "code",
   "execution_count": null,
   "metadata": {},
   "outputs": [],
   "source": []
  }
 ],
 "metadata": {
  "kernelspec": {
   "display_name": "Python 3",
   "language": "python",
   "name": "python3"
  },
  "language_info": {
   "codemirror_mode": {
    "name": "ipython",
    "version": 3
   },
   "file_extension": ".py",
   "mimetype": "text/x-python",
   "name": "python",
   "nbconvert_exporter": "python",
   "pygments_lexer": "ipython3",
   "version": "3.9.7"
  },
  "orig_nbformat": 4
 },
 "nbformat": 4,
 "nbformat_minor": 2
}
